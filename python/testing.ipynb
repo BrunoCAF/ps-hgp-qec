{
 "cells": [
  {
   "cell_type": "code",
   "execution_count": 1,
   "metadata": {
    "editable": true,
    "slideshow": {
     "slide_type": ""
    },
    "tags": []
   },
   "outputs": [],
   "source": [
    "import numpy as np\n",
    "import numpy.random as npr\n",
    "from numpy.typing import NDArray\n",
    "import matplotlib.pyplot as plt\n",
    "import time\n",
    "import networkx as nx\n",
    "import networkx.algorithms.bipartite as bpt\n",
    "import networkx.algorithms.isomorphism as iso\n",
    "import scipy.sparse as sp\n",
    "import sys"
   ]
  },
  {
   "cell_type": "code",
   "execution_count": 2,
   "metadata": {
    "editable": true,
    "slideshow": {
     "slide_type": ""
    },
    "tags": []
   },
   "outputs": [],
   "source": [
    "def parse_adj(adj):\n",
    "    print('-----------------------------------')\n",
    "    for node in adj:\n",
    "        print(f\"{node:2d} -> \", end=\"\")\n",
    "        for neighbor in adj[node]:\n",
    "            print(f\"{neighbor:2d}\", end=\" \")\n",
    "        print()\n",
    "    print('-----------------------------------')"
   ]
  },
  {
   "cell_type": "code",
   "execution_count": 3,
   "metadata": {},
   "outputs": [],
   "source": [
    "def draw_graph(G: nx.MultiGraph, shape: tuple[int, int]):\n",
    "    m, n = shape\n",
    "    pos = nx.layout.bipartite_layout(G, np.arange(m))\n",
    "    \n",
    "    # Draw the graph\n",
    "    plt.figure(figsize=(9, 7))\n",
    "    nx.draw(G, pos, labels={k:v for k, v in zip(list(range(m+n)), ([f'$c_{i}$' for i in range(m)]+[f'$n_{i}$' for i in range(n)]))},\n",
    "            with_labels=True, node_color=['grey' if i < m else 'purple' for i in G.nodes()])\n",
    "    plt.show()"
   ]
  },
  {
   "cell_type": "markdown",
   "metadata": {},
   "source": [
    "# State Representation and Indexing\n",
    "\n",
    "In order to keep track of the visited states and map their representation to the corresponding PS structures (namely, the $h$ and $g$ matrices, and a reward cache), we'll introduce the StateIndexer class. "
   ]
  },
  {
   "cell_type": "code",
   "execution_count": 4,
   "metadata": {},
   "outputs": [],
   "source": [
    "from state_indexer import StateIndexer"
   ]
  },
  {
   "cell_type": "markdown",
   "metadata": {},
   "source": [
    "## Testing:\n",
    "\n",
    "### Serialization/Deserialization"
   ]
  },
  {
   "cell_type": "code",
   "execution_count": 5,
   "metadata": {},
   "outputs": [
    {
     "data": {
      "text/plain": [
       "(array([[0, 1, 0, 2, 2, 0, 2],\n",
       "        [0, 1, 0, 0, 2, 0, 1],\n",
       "        [0, 0, 0, 1, 1, 1, 0]], dtype=uint8),\n",
       " MultiEdgeView([(0, 4, 0), (0, 6, 0), (0, 6, 1), (0, 7, 0), (0, 7, 1), (0, 9, 0), (0, 9, 1), (1, 4, 0), (1, 7, 0), (1, 7, 1), (1, 9, 0), (2, 6, 0), (2, 7, 0), (2, 8, 0)]))"
      ]
     },
     "execution_count": 5,
     "metadata": {},
     "output_type": "execute_result"
    }
   ],
   "source": [
    "# Create a random graph from its biadjacency matrix. Let's allow for a few multiedges. \n",
    "m, n = (3, 7)\n",
    "x = npr.randint(0, 3, (3, 7), dtype=np.uint8)\n",
    "G = bpt.from_biadjacency_matrix(sp.csr_matrix(x), create_using=nx.MultiGraph())\n",
    "x, G.edges"
   ]
  },
  {
   "cell_type": "code",
   "execution_count": 6,
   "metadata": {},
   "outputs": [
    {
     "data": {
      "text/plain": [
       "(b'\\x00\\x01\\x00\\x02\\x02\\x00\\x02\\x00\\x01\\x00\\x00\\x02\\x00\\x01\\x00\\x00\\x00\\x01\\x01\\x01\\x00',\n",
       " b'\\x00\\x04\\x07\\n\\x01\\x03\\x04\\x06\\x01\\x04\\x06\\x03\\x04\\x05\\x01\\x02\\x02\\x02\\x01\\x02\\x01\\x01\\x01\\x01')"
      ]
     },
     "execution_count": 6,
     "metadata": {},
     "output_type": "execute_result"
    }
   ],
   "source": [
    "# Now serialize it and then deserialize it\n",
    "state_indexer = StateIndexer(graph_dims=(m, n))\n",
    "d_serial = state_indexer.serialize_dense(G)\n",
    "s_serial = state_indexer.serialize_sparse(G)\n",
    "d_serial, s_serial"
   ]
  },
  {
   "cell_type": "code",
   "execution_count": 7,
   "metadata": {},
   "outputs": [],
   "source": [
    "rec_G_d = state_indexer.deserialize_dense(d_serial)\n",
    "rec_G_s = state_indexer.deserialize_sparse(s_serial)\n",
    "assert rec_G_d.__class__ == nx.MultiGraph\n",
    "assert rec_G_s.__class__ == nx.MultiGraph\n",
    "assert (x == bpt.biadjacency_matrix(rec_G_d, row_order=np.arange(m)).astype(np.uint8).todense()).all()\n",
    "assert (x == bpt.biadjacency_matrix(rec_G_s, row_order=np.arange(m)).astype(np.uint8).todense()).all()\n",
    "assert nx.utils.graphs_equal(rec_G_d, G)\n",
    "assert nx.utils.graphs_equal(rec_G_s, G)"
   ]
  },
  {
   "cell_type": "markdown",
   "metadata": {},
   "source": [
    "## Graph Hashing\n",
    "\n",
    "Here we want to have a notion of the collision rate. The number of collisions each hash key has will determine how expensive the insertion will be due to the isomorphism checks. "
   ]
  },
  {
   "cell_type": "code",
   "execution_count": 8,
   "metadata": {},
   "outputs": [],
   "source": [
    "from state_indexer import IsomorphicStateIndexer"
   ]
  },
  {
   "cell_type": "code",
   "execution_count": 9,
   "metadata": {
    "scrolled": true
   },
   "outputs": [
    {
     "name": "stdout",
     "output_type": "stream",
     "text": [
      "0\n",
      "1\n",
      "2\n",
      "3\n",
      "4\n",
      "5\n",
      "6\n",
      "7\n",
      "8\n",
      "9\n",
      "10\n",
      "11\n",
      "12\n",
      "13\n",
      "14\n",
      "15\n",
      "16\n",
      "17\n",
      "18\n",
      "19\n",
      "20\n",
      "21\n",
      "22\n",
      "23\n",
      "24\n",
      "25\n",
      "26\n",
      "27\n",
      "28\n",
      "29\n",
      "30\n",
      "31\n",
      "32\n",
      "33\n",
      "34\n",
      "35\n",
      "36\n",
      "37\n",
      "38\n",
      "39\n",
      "40\n",
      "41\n",
      "42\n",
      "43\n",
      "44\n",
      "45\n",
      "46\n",
      "47\n",
      "48\n",
      "49\n",
      "50\n",
      "51\n",
      "52\n",
      "53\n",
      "54\n",
      "55\n",
      "56\n",
      "57\n",
      "58\n",
      "59\n",
      "60\n",
      "61\n",
      "62\n",
      "63\n",
      "64\n",
      "65\n",
      "66\n",
      "67\n",
      "68\n",
      "69\n",
      "70\n",
      "71\n",
      "72\n",
      "73\n",
      "74\n",
      "75\n",
      "76\n",
      "77\n",
      "78\n",
      "79\n",
      "80\n",
      "81\n",
      "82\n",
      "83\n",
      "84\n",
      "85\n",
      "86\n",
      "87\n",
      "88\n",
      "89\n",
      "90\n",
      "91\n",
      "92\n",
      "93\n",
      "94\n",
      "95\n",
      "96\n",
      "97\n",
      "98\n",
      "99\n",
      "100\n",
      "101\n",
      "102\n",
      "103\n",
      "104\n",
      "105\n",
      "106\n",
      "107\n",
      "108\n",
      "109\n",
      "110\n",
      "111\n",
      "112\n",
      "113\n",
      "114\n",
      "115\n",
      "116\n",
      "117\n",
      "118\n",
      "119\n",
      "120\n",
      "121\n",
      "122\n",
      "123\n",
      "124\n",
      "125\n",
      "126\n",
      "127\n",
      "128\n",
      "129\n",
      "130\n",
      "131\n",
      "132\n",
      "133\n",
      "134\n",
      "135\n",
      "136\n",
      "137\n",
      "138\n",
      "139\n",
      "140\n",
      "141\n",
      "142\n",
      "143\n",
      "144\n",
      "145\n",
      "146\n",
      "147\n",
      "148\n",
      "149\n",
      "150\n",
      "151\n",
      "152\n",
      "153\n"
     ]
    },
    {
     "ename": "KeyboardInterrupt",
     "evalue": "",
     "output_type": "error",
     "traceback": [
      "\u001b[0;31m---------------------------------------------------------------------------\u001b[0m",
      "\u001b[0;31mKeyboardInterrupt\u001b[0m                         Traceback (most recent call last)",
      "Cell \u001b[0;32mIn[9], line 8\u001b[0m\n\u001b[1;32m      6\u001b[0m     G \u001b[38;5;241m=\u001b[39m bpt\u001b[38;5;241m.\u001b[39mconfiguration_model(aseq\u001b[38;5;241m=\u001b[39m[\u001b[38;5;241m4\u001b[39m]\u001b[38;5;241m*\u001b[39mm, bseq\u001b[38;5;241m=\u001b[39m[\u001b[38;5;241m2\u001b[39m]\u001b[38;5;241m*\u001b[39mn, create_using\u001b[38;5;241m=\u001b[39mnx\u001b[38;5;241m.\u001b[39mMultiGraph)\n\u001b[1;32m      7\u001b[0m     t \u001b[38;5;241m=\u001b[39m time\u001b[38;5;241m.\u001b[39mtime()\n\u001b[0;32m----> 8\u001b[0m     state_indexer\u001b[38;5;241m.\u001b[39mget_index(G)\n\u001b[1;32m      9\u001b[0m     avg_t \u001b[38;5;241m+\u001b[39m\u001b[38;5;241m=\u001b[39m time\u001b[38;5;241m.\u001b[39mtime() \u001b[38;5;241m-\u001b[39m t\n\u001b[1;32m     11\u001b[0m state_indexer\u001b[38;5;241m.\u001b[39mcollision_report()\n",
      "File \u001b[0;32m~/RL-QEC/ps-hgp-qec/python/notebooks/../scripts/state_indexer.py:159\u001b[0m, in \u001b[0;36mIsomorphicStateIndexer.get_index\u001b[0;34m(self, G)\u001b[0m\n\u001b[1;32m    157\u001b[0m         \u001b[38;5;28;01mif\u001b[39;00m \u001b[38;5;28mself\u001b[39m\u001b[38;5;241m.\u001b[39mdebug:\n\u001b[1;32m    158\u001b[0m             \u001b[38;5;28mself\u001b[39m\u001b[38;5;241m.\u001b[39mcollisions[G_hkey][\u001b[38;5;124m'\u001b[39m\u001b[38;5;124mi\u001b[39m\u001b[38;5;124m'\u001b[39m] \u001b[38;5;241m+\u001b[39m\u001b[38;5;241m=\u001b[39m \u001b[38;5;241m1\u001b[39m\n\u001b[0;32m--> 159\u001b[0m         \u001b[38;5;28;01mif\u001b[39;00m iso\u001b[38;5;241m.\u001b[39mvf2pp_is_isomorphic(G, G_old):\n\u001b[1;32m    160\u001b[0m             \u001b[38;5;28;01mreturn\u001b[39;00m \u001b[38;5;28mself\u001b[39m\u001b[38;5;241m.\u001b[39mstorage[G_hkey][skey]\n\u001b[1;32m    162\u001b[0m \u001b[38;5;28mself\u001b[39m\u001b[38;5;241m.\u001b[39mstorage[G_hkey][G_skey] \u001b[38;5;241m=\u001b[39m \u001b[38;5;28mself\u001b[39m\u001b[38;5;241m.\u001b[39mnext_index\n",
      "File \u001b[0;32m~/anaconda3/envs/rl-qec-ps-hgp/lib/python3.12/site-packages/networkx/algorithms/isomorphism/vf2pp.py:153\u001b[0m, in \u001b[0;36mvf2pp_is_isomorphic\u001b[0;34m(G1, G2, node_label, default_label)\u001b[0m\n\u001b[1;32m    130\u001b[0m \u001b[38;5;28;01mdef\u001b[39;00m \u001b[38;5;21mvf2pp_is_isomorphic\u001b[39m(G1, G2, node_label\u001b[38;5;241m=\u001b[39m\u001b[38;5;28;01mNone\u001b[39;00m, default_label\u001b[38;5;241m=\u001b[39m\u001b[38;5;28;01mNone\u001b[39;00m):\n\u001b[1;32m    131\u001b[0m \u001b[38;5;250m    \u001b[39m\u001b[38;5;124;03m\"\"\"Examines whether G1 and G2 are isomorphic.\u001b[39;00m\n\u001b[1;32m    132\u001b[0m \n\u001b[1;32m    133\u001b[0m \u001b[38;5;124;03m    Parameters\u001b[39;00m\n\u001b[0;32m   (...)\u001b[0m\n\u001b[1;32m    151\u001b[0m \u001b[38;5;124;03m        True if the two graphs are isomorphic, False otherwise.\u001b[39;00m\n\u001b[1;32m    152\u001b[0m \u001b[38;5;124;03m    \"\"\"\u001b[39;00m\n\u001b[0;32m--> 153\u001b[0m     \u001b[38;5;28;01mif\u001b[39;00m vf2pp_isomorphism(G1, G2, node_label, default_label) \u001b[38;5;129;01mis\u001b[39;00m \u001b[38;5;129;01mnot\u001b[39;00m \u001b[38;5;28;01mNone\u001b[39;00m:\n\u001b[1;32m    154\u001b[0m         \u001b[38;5;28;01mreturn\u001b[39;00m \u001b[38;5;28;01mTrue\u001b[39;00m\n\u001b[1;32m    155\u001b[0m     \u001b[38;5;28;01mreturn\u001b[39;00m \u001b[38;5;28;01mFalse\u001b[39;00m\n",
      "File \u001b[0;32m~/anaconda3/envs/rl-qec-ps-hgp/lib/python3.12/site-packages/networkx/algorithms/isomorphism/vf2pp.py:124\u001b[0m, in \u001b[0;36mvf2pp_isomorphism\u001b[0;34m(G1, G2, node_label, default_label)\u001b[0m\n\u001b[1;32m    101\u001b[0m \u001b[38;5;250m\u001b[39m\u001b[38;5;124;03m\"\"\"Return an isomorphic mapping between `G1` and `G2` if it exists.\u001b[39;00m\n\u001b[1;32m    102\u001b[0m \n\u001b[1;32m    103\u001b[0m \u001b[38;5;124;03mParameters\u001b[39;00m\n\u001b[0;32m   (...)\u001b[0m\n\u001b[1;32m    121\u001b[0m \u001b[38;5;124;03m    Node mapping if the two graphs are isomorphic. None otherwise.\u001b[39;00m\n\u001b[1;32m    122\u001b[0m \u001b[38;5;124;03m\"\"\"\u001b[39;00m\n\u001b[1;32m    123\u001b[0m \u001b[38;5;28;01mtry\u001b[39;00m:\n\u001b[0;32m--> 124\u001b[0m     mapping \u001b[38;5;241m=\u001b[39m \u001b[38;5;28mnext\u001b[39m(vf2pp_all_isomorphisms(G1, G2, node_label, default_label))\n\u001b[1;32m    125\u001b[0m     \u001b[38;5;28;01mreturn\u001b[39;00m mapping\n\u001b[1;32m    126\u001b[0m \u001b[38;5;28;01mexcept\u001b[39;00m \u001b[38;5;167;01mStopIteration\u001b[39;00m:\n",
      "File \u001b[0;32m~/anaconda3/envs/rl-qec-ps-hgp/lib/python3.12/site-packages/networkx/algorithms/isomorphism/vf2pp.py:254\u001b[0m, in \u001b[0;36mvf2pp_all_isomorphisms\u001b[0;34m(G1, G2, node_label, default_label)\u001b[0m\n\u001b[1;32m    251\u001b[0m         restore_Tinout(popped_node1, popped_node2, graph_params, state_params)\n\u001b[1;32m    252\u001b[0m     \u001b[38;5;28;01mcontinue\u001b[39;00m\n\u001b[0;32m--> 254\u001b[0m \u001b[38;5;28;01mif\u001b[39;00m _feasibility(current_node, candidate, graph_params, state_params):\n\u001b[1;32m    255\u001b[0m     \u001b[38;5;66;03m# Terminate if mapping is extended to its full\u001b[39;00m\n\u001b[1;32m    256\u001b[0m     \u001b[38;5;28;01mif\u001b[39;00m \u001b[38;5;28mlen\u001b[39m(mapping) \u001b[38;5;241m==\u001b[39m G2\u001b[38;5;241m.\u001b[39mnumber_of_nodes() \u001b[38;5;241m-\u001b[39m \u001b[38;5;241m1\u001b[39m:\n\u001b[1;32m    257\u001b[0m         cp_mapping \u001b[38;5;241m=\u001b[39m mapping\u001b[38;5;241m.\u001b[39mcopy()\n",
      "File \u001b[0;32m~/anaconda3/envs/rl-qec-ps-hgp/lib/python3.12/site-packages/networkx/algorithms/isomorphism/vf2pp.py:605\u001b[0m, in \u001b[0;36m_feasibility\u001b[0;34m(node1, node2, graph_params, state_params)\u001b[0m\n\u001b[1;32m    562\u001b[0m \u001b[38;5;250m\u001b[39m\u001b[38;5;124;03m\"\"\"Given a candidate pair of nodes u and v from G1 and G2 respectively, checks if it's feasible to extend the\u001b[39;00m\n\u001b[1;32m    563\u001b[0m \u001b[38;5;124;03mmapping, i.e. if u and v can be matched.\u001b[39;00m\n\u001b[1;32m    564\u001b[0m \n\u001b[0;32m   (...)\u001b[0m\n\u001b[1;32m    601\u001b[0m \u001b[38;5;124;03mTrue if all checks are successful, False otherwise.\u001b[39;00m\n\u001b[1;32m    602\u001b[0m \u001b[38;5;124;03m\"\"\"\u001b[39;00m\n\u001b[1;32m    603\u001b[0m G1 \u001b[38;5;241m=\u001b[39m graph_params\u001b[38;5;241m.\u001b[39mG1\n\u001b[0;32m--> 605\u001b[0m \u001b[38;5;28;01mif\u001b[39;00m _cut_PT(node1, node2, graph_params, state_params):\n\u001b[1;32m    606\u001b[0m     \u001b[38;5;28;01mreturn\u001b[39;00m \u001b[38;5;28;01mFalse\u001b[39;00m\n\u001b[1;32m    608\u001b[0m \u001b[38;5;28;01mif\u001b[39;00m G1\u001b[38;5;241m.\u001b[39mis_multigraph():\n",
      "File \u001b[0;32m~/anaconda3/envs/rl-qec-ps-hgp/lib/python3.12/site-packages/networkx/algorithms/isomorphism/vf2pp.py:694\u001b[0m, in \u001b[0;36m_cut_PT\u001b[0;34m(u, v, graph_params, state_params)\u001b[0m\n\u001b[1;32m    690\u001b[0m     u_nbrs_edges \u001b[38;5;241m=\u001b[39m \u001b[38;5;28msorted\u001b[39m(G1\u001b[38;5;241m.\u001b[39mnumber_of_edges(u, x) \u001b[38;5;28;01mfor\u001b[39;00m x \u001b[38;5;129;01min\u001b[39;00m G1_nbh)\n\u001b[1;32m    691\u001b[0m     v_nbrs_edges \u001b[38;5;241m=\u001b[39m \u001b[38;5;28msorted\u001b[39m(G2\u001b[38;5;241m.\u001b[39mnumber_of_edges(v, x) \u001b[38;5;28;01mfor\u001b[39;00m x \u001b[38;5;129;01min\u001b[39;00m G2_nbh)\n\u001b[1;32m    692\u001b[0m     \u001b[38;5;28;01mif\u001b[39;00m \u001b[38;5;28many\u001b[39m(\n\u001b[1;32m    693\u001b[0m         u_nbr_edges \u001b[38;5;241m!=\u001b[39m v_nbr_edges\n\u001b[0;32m--> 694\u001b[0m         \u001b[38;5;28;01mfor\u001b[39;00m u_nbr_edges, v_nbr_edges \u001b[38;5;129;01min\u001b[39;00m \u001b[38;5;28mzip\u001b[39m(u_nbrs_edges, v_nbrs_edges)\n\u001b[1;32m    695\u001b[0m     ):\n\u001b[1;32m    696\u001b[0m         \u001b[38;5;28;01mreturn\u001b[39;00m \u001b[38;5;28;01mTrue\u001b[39;00m\n\u001b[1;32m    698\u001b[0m \u001b[38;5;28;01mif\u001b[39;00m \u001b[38;5;28mlen\u001b[39m(T1\u001b[38;5;241m.\u001b[39mintersection(G1_nbh)) \u001b[38;5;241m!=\u001b[39m \u001b[38;5;28mlen\u001b[39m(T2\u001b[38;5;241m.\u001b[39mintersection(G2_nbh)):\n",
      "\u001b[0;31mKeyboardInterrupt\u001b[0m: "
     ]
    }
   ],
   "source": [
    "m, n = 12, 24\n",
    "state_indexer = IsomorphicStateIndexer(graph_dims=(m, n), debug=True)\n",
    "\n",
    "avg_t = 0\n",
    "for _ in range(1000):\n",
    "    G = bpt.configuration_model(aseq=[4]*m, bseq=[2]*n, create_using=nx.MultiGraph)\n",
    "    t = time.time()\n",
    "    state_indexer.get_index(G)\n",
    "    avg_t += time.time() - t\n",
    "\n",
    "state_indexer.collision_report()\n",
    "avg_t /= 1000\n",
    "print(f\"{avg_t = :5.2g} s\")"
   ]
  },
  {
   "cell_type": "markdown",
   "metadata": {},
   "source": [
    "As it turns out, the hashing function is severely flawed, with one single hashkey having over 200 collisions among 1000 random matrices, implying a severe computational cost due to the quadratically many isomorphism checks that have to be performed. Unless I can come up with a better hashing scheme, this renders unfeasible the idea of grouping states by isomorphism class. "
   ]
  },
  {
   "cell_type": "code",
   "execution_count": 42,
   "metadata": {},
   "outputs": [
    {
     "data": {
      "text/plain": [
       "matrix([[0, 0, 0, 0, 0, 0, 0],\n",
       "        [0, 0, 0, 0, 0, 0, 0],\n",
       "        [0, 0, 0, 0, 0, 0, 0]], dtype=int16)"
      ]
     },
     "execution_count": 42,
     "metadata": {},
     "output_type": "execute_result"
    }
   ],
   "source": [
    "# %timeit sp.kron(sp.coo_matrix(x), sp.eye(50))\n",
    "# %timeit sp.csgraph.structural_rank(sp.csr_matrix(sp.eye(5000)))"
   ]
  },
  {
   "cell_type": "code",
   "execution_count": null,
   "metadata": {},
   "outputs": [],
   "source": [
    "# agent = initialize_agent()\n",
    "# H, G = sp.lil, sp.dok\n",
    "# r = 0\n",
    "# for _ in range(num_episodes):\n",
    "#     for _ in range(max_iter):\n",
    "#         if r > 0 break\n",
    "#         agent.sample_action() # uses current state agent.S\n",
    "# inline: idx = state_indexer.get_index(S)\n",
    "#         hi = H.getrow(idx)\n",
    "#         action_idx = strat_sampling(hi)\n",
    "#         agent.apply_action(action_idx) \n",
    "#         # internally convert a \\in [0..A-1] to (i, j) indicating the pair of edges to twist\n",
    "#         # apply action should update the state S accordingly\n",
    "#         # or maybe you can just convert to (i, j) and then the state update + reward is handled by \n",
    "#         # the environment? it's what a. melnikov does anyway"
   ]
  },
  {
   "cell_type": "markdown",
   "metadata": {},
   "source": [
    "## Graph Visualizations and Matrix Sorting"
   ]
  },
  {
   "cell_type": "code",
   "execution_count": 87,
   "metadata": {},
   "outputs": [],
   "source": [
    "def repr(a):\n",
    "  print('('+')\\n('.join([''.join(r) for r in a.astype(int).astype(str)])+')')"
   ]
  },
  {
   "cell_type": "code",
   "execution_count": 122,
   "metadata": {},
   "outputs": [
    {
     "name": "stdout",
     "output_type": "stream",
     "text": [
      "(1100010)\n",
      "(1001101)\n",
      "(0111000)\n"
     ]
    },
    {
     "data": {
      "image/png": "[encoded data removed]",
      "text/plain": [
       "<Figure size 300x200 with 1 Axes>"
      ]
     },
     "metadata": {},
     "output_type": "display_data"
    }
   ],
   "source": [
    "G = bpt.configuration_model(aseq=[4, 4, 4], bseq=[3, 2, 2, 2, 1, 1, 1], create_using=nx.Graph())\n",
    "a = bpt.biadjacency_matrix(G, row_order=[0,1,2]).astype(np.bool_).todense()\n",
    "repr(a)\n",
    "pos = nx.layout.bipartite_layout(G, [0,1,2])\n",
    "\n",
    "# Draw the graph\n",
    "plt.figure(figsize=(3, 2))\n",
    "nx.draw(G, pos, with_labels=True, node_color=['grey' if n in [0,1,2] else 'purple' for n in G.nodes()])\n",
    "plt.show()"
   ]
  },
  {
   "cell_type": "code",
   "execution_count": 127,
   "metadata": {},
   "outputs": [
    {
     "name": "stdout",
     "output_type": "stream",
     "text": [
      "(1111000)\n",
      "(1100111)\n",
      "(1000110)\n"
     ]
    },
    {
     "data": {
      "image/png": "[encoded data removed]",
      "text/plain": [
       "<Figure size 300x200 with 1 Axes>"
      ]
     },
     "metadata": {},
     "output_type": "display_data"
    }
   ],
   "source": [
    "m, n = 3, 7\n",
    "a = npr.randint(0, 2, (m, n), dtype=np.bool_)\n",
    "repr(a)\n",
    "\n",
    "G = bpt.from_biadjacency_matrix(sp.csr_matrix(a))\n",
    "pos = nx.layout.bipartite_layout(G, [0,1,2])\n",
    "\n",
    "# Draw the graph\n",
    "plt.figure(figsize=(3, 2))\n",
    "nx.draw(G, pos, labels={k:v for k, v in zip(list(range(m+n)), ([f'$c_{i}$' for i in range(m)]+[f'$n_{i}$' for i in range(n)]))},\n",
    "        with_labels=True, node_color=['grey' if n in [0,1,2] else 'purple' for n in G.nodes()])\n",
    "plt.show()"
   ]
  },
  {
   "cell_type": "markdown",
   "metadata": {},
   "source": [
    "## Action encoding"
   ]
  },
  {
   "cell_type": "code",
   "execution_count": 115,
   "metadata": {},
   "outputs": [],
   "source": [
    "m, n = 3, 7\n",
    "def index_to_action(a: np.uint32) -> tuple[NDArray[np.uint8], \n",
    "                                           NDArray[np.uint8]]: \n",
    "    \"\"\"\n",
    "        Given an action index a in [0..A-1], A = n*(n-1)/2 * m(m-1)/2,\n",
    "        compute (i, j), (k, l) indices of row pair and column pair where\n",
    "        the braiding action is to be applied. \n",
    "    \"\"\"\n",
    "    # a = M*(n 2) + N\n",
    "    M, N = np.divmod(a, n*(n-1)//2, dtype=np.uint16)\n",
    "    # N = n i - (i+2)(i+1)/2 + j, M = m k - (k+2)(k+1)/2 + l\n",
    "    i = np.floor(((2*n - 1) - np.sqrt((2*n-1)**2 - 8*N))//2)\n",
    "    j = (N - n*i + ((i+2)*(i+1))//2)\n",
    "    k = np.floor(((2*m - 1) - np.sqrt((2*m-1)**2 - 8*M))//2)\n",
    "    l = (M - m*k + ((k+2)*(k+1))//2)\n",
    "    \n",
    "    return np.array([k, l]).astype(np.uint8), np.array([i, j]).astype(np.uint8)\n",
    "\n",
    "def is_action_valid(state: NDArray[np.bool_], action: np.uint32) -> bool:\n",
    "    submatrix = state[np.ix_(*index_to_action(action))]\n",
    "    ID = np.eye(2, dtype=np.bool_)\n",
    "    return (submatrix == ID).all() or (submatrix != ID).all()"
   ]
  },
  {
   "cell_type": "code",
   "execution_count": 123,
   "metadata": {},
   "outputs": [
    {
     "name": "stdout",
     "output_type": "stream",
     "text": [
      "(1100010)\n",
      "(1001101)\n",
      "(0111000)\n",
      "bool\n"
     ]
    }
   ],
   "source": [
    "repr(a)\n",
    "print(a.dtype)"
   ]
  },
  {
   "cell_type": "code",
   "execution_count": 124,
   "metadata": {},
   "outputs": [
    {
     "data": {
      "text/plain": [
       "16"
      ]
     },
     "execution_count": 124,
     "metadata": {},
     "output_type": "execute_result"
    }
   ],
   "source": [
    "sum([is_action_valid(a, k) for k in range(63)])"
   ]
  },
  {
   "cell_type": "markdown",
   "metadata": {},
   "source": [
    "# Sparse Matrix formats"
   ]
  },
  {
   "cell_type": "code",
   "execution_count": 65,
   "metadata": {},
   "outputs": [
    {
     "ename": "ValueError",
     "evalue": "unrecognized csr_matrix constructor usage",
     "output_type": "error",
     "traceback": [
      "\u001b[0;31m---------------------------------------------------------------------------\u001b[0m",
      "\u001b[0;31mValueError\u001b[0m                                Traceback (most recent call last)",
      "Cell \u001b[0;32mIn[65], line 3\u001b[0m\n\u001b[1;32m      1\u001b[0m \u001b[38;5;66;03m# %%timeit\u001b[39;00m\n\u001b[1;32m      2\u001b[0m S, A \u001b[38;5;241m=\u001b[39m \u001b[38;5;241m7\u001b[39m, \u001b[38;5;241m30\u001b[39m\n\u001b[0;32m----> 3\u001b[0m h \u001b[38;5;241m=\u001b[39m sp\u001b[38;5;241m.\u001b[39mcsr_array((), dtype\u001b[38;5;241m=\u001b[39mnp\u001b[38;5;241m.\u001b[39mfloat32)\n\u001b[1;32m      4\u001b[0m g \u001b[38;5;241m=\u001b[39m sp\u001b[38;5;241m.\u001b[39mdok_array((), dtype\u001b[38;5;241m=\u001b[39mnp\u001b[38;5;241m.\u001b[39mfloat32)\n\u001b[1;32m      6\u001b[0m gamma \u001b[38;5;241m=\u001b[39m \u001b[38;5;241m1e-3\u001b[39m\n",
      "File \u001b[0;32m~/anaconda3/envs/rl-qec-ps-hgp/lib/python3.12/site-packages/scipy/sparse/_compressed.py:77\u001b[0m, in \u001b[0;36m_cs_matrix.__init__\u001b[0;34m(self, arg1, shape, dtype, copy)\u001b[0m\n\u001b[1;32m     75\u001b[0m             \u001b[38;5;28mself\u001b[39m\u001b[38;5;241m.\u001b[39mdata \u001b[38;5;241m=\u001b[39m np\u001b[38;5;241m.\u001b[39marray(data, copy\u001b[38;5;241m=\u001b[39mcopy, dtype\u001b[38;5;241m=\u001b[39mdtype)\n\u001b[1;32m     76\u001b[0m         \u001b[38;5;28;01melse\u001b[39;00m:\n\u001b[0;32m---> 77\u001b[0m             \u001b[38;5;28;01mraise\u001b[39;00m \u001b[38;5;167;01mValueError\u001b[39;00m(\u001b[38;5;124mf\u001b[39m\u001b[38;5;124m\"\u001b[39m\u001b[38;5;124munrecognized \u001b[39m\u001b[38;5;132;01m{\u001b[39;00m\u001b[38;5;28mself\u001b[39m\u001b[38;5;241m.\u001b[39mformat\u001b[38;5;132;01m}\u001b[39;00m\u001b[38;5;124m_matrix \u001b[39m\u001b[38;5;124m\"\u001b[39m\n\u001b[1;32m     78\u001b[0m                              \u001b[38;5;124m\"\u001b[39m\u001b[38;5;124mconstructor usage\u001b[39m\u001b[38;5;124m\"\u001b[39m)\n\u001b[1;32m     80\u001b[0m \u001b[38;5;28;01melse\u001b[39;00m:\n\u001b[1;32m     81\u001b[0m     \u001b[38;5;66;03m# must be dense\u001b[39;00m\n\u001b[1;32m     82\u001b[0m     \u001b[38;5;28;01mtry\u001b[39;00m:\n",
      "\u001b[0;31mValueError\u001b[0m: unrecognized csr_matrix constructor usage"
     ]
    }
   ],
   "source": [
    "# %%timeit\n",
    "S, A = 7, 30\n",
    "h = sp.csr_array((), dtype=np.float32)\n",
    "g = sp.dok_array((), dtype=np.float32)\n",
    "\n",
    "gamma = 1e-3\n",
    "eta = 1e-2\n",
    "reward = 1\n",
    "\n",
    "num_steps = 100\n",
    "for _ in range(num_steps):\n",
    "    h *= 1-gamma\n",
    "    h += reward*g\n",
    "    g *= 1-eta\n",
    "    i, j = npr.randint(0, S), npr.randint(0, A)\n",
    "    g[i, j] = 1"
   ]
  },
  {
   "cell_type": "code",
   "execution_count": 100,
   "metadata": {},
   "outputs": [
    {
     "data": {
      "text/plain": [
       "{'_shape': (10, 30),\n",
       " 'maxprint': 50,\n",
       " 'indices': array([22, 17, 10,  8, 18, 27, 11, 28, 13, 26, 25,  0, 20, 16,  0,  7,  4,\n",
       "        21, 10, 23, 22, 17,  3, 18, 27, 14, 25, 11, 25, 15,  4, 29,  9,  0,\n",
       "         6,  1, 17, 14, 26,  2,  4, 18, 12,  7, 23, 25,  0, 25, 19,  3, 16,\n",
       "        24, 29, 11,  1,  5,  7, 22,  2, 16, 17, 11, 20, 26, 10, 18,  8, 12,\n",
       "         1,  8, 14, 29, 10, 15,  3, 23, 24], dtype=int32),\n",
       " 'indptr': array([ 0, 14, 28, 36, 47, 57, 69, 77, 77, 77, 77], dtype=int32),\n",
       " 'data': array([15.576905 , 21.941824 , 34.309803 , 45.334282 , 55.50186  ,\n",
       "        58.270462 , 65.206955 , 55.165752 , 45.819855 , 41.767956 ,\n",
       "        37.313423 , 32.42206  , 31.12668  , 21.177322 ,  6.772847 ,\n",
       "        39.03317  , 40.14647  , 43.33285  , 54.009113 , 58.919537 ,\n",
       "        70.629555 , 62.485176 , 63.80457  , 50.366398 , 47.704784 ,\n",
       "        46.773674 , 34.924595 , 14.740188 , 13.894023 , 32.70946  ,\n",
       "        42.556744 , 42.29579  , 62.52469  , 38.065212 , 25.636738 ,\n",
       "        16.404272 , 10.412954 , 17.387869 , 39.579845 , 53.234306 ,\n",
       "        57.604507 , 73.4527   , 64.98179  , 33.68783  , 22.697702 ,\n",
       "        18.03133  ,  1.9890001,  2.967111 , 29.126766 , 41.233833 ,\n",
       "        56.931183 , 50.791374 , 56.22057  , 55.863483 , 44.842857 ,\n",
       "        29.801086 , 25.463236 ,  4.930449 ,  8.613186 , 48.16197  ,\n",
       "        53.628666 , 61.469467 , 56.92133  , 73.00928  , 58.597088 ,\n",
       "        67.16284  , 51.21117  , 13.038315 ,  9.51809  , 24.91448  ,\n",
       "        47.24204  , 54.764835 , 57.265095 , 49.500698 , 38.46663  ,\n",
       "        28.444656 , 11.297879 ], dtype=float32)}"
      ]
     },
     "execution_count": 100,
     "metadata": {},
     "output_type": "execute_result"
    }
   ],
   "source": [
    "h.__dict__"
   ]
  },
  {
   "cell_type": "code",
   "execution_count": 114,
   "metadata": {},
   "outputs": [
    {
     "data": {
      "text/plain": [
       "<30x35 sparse array of type '<class 'numpy.float32'>'\n",
       "\twith 77 stored elements in Compressed Sparse Row format>"
      ]
     },
     "execution_count": 114,
     "metadata": {},
     "output_type": "execute_result"
    }
   ],
   "source": [
    "h.resize((30, 35))\n",
    "h"
   ]
  },
  {
   "cell_type": "code",
   "execution_count": 116,
   "metadata": {},
   "outputs": [
    {
     "data": {
      "text/plain": [
       "<30x35 sparse array of type '<class 'numpy.float32'>'\n",
       "\twith 77 stored elements in Compressed Sparse Row format>"
      ]
     },
     "execution_count": 116,
     "metadata": {},
     "output_type": "execute_result"
    }
   ],
   "source": [
    "sp.csr_array(h.todense())"
   ]
  },
  {
   "cell_type": "code",
   "execution_count": 108,
   "metadata": {},
   "outputs": [],
   "source": [
    "# csc/csc = 319ms +- 7.57ms\n",
    "# coo/dok = 448ms +- 8.85ms\n",
    "# csc/dok = 495ms +- 14.4ms\n",
    "# csr/dok = 464ms +- 17.6ms\n",
    "# lil/dok = 19.2s +- 1.67s\n",
    "# lil/lil = 27s +- 82.5ms"
   ]
  }
 ],
 "metadata": {
  "kernelspec": {
   "display_name": "Python 3 (ipykernel)",
   "language": "python",
   "name": "python3"
  },
  "language_info": {
   "codemirror_mode": {
    "name": "ipython",
    "version": 3
   },
   "file_extension": ".py",
   "mimetype": "text/x-python",
   "name": "python",
   "nbconvert_exporter": "python",
   "pygments_lexer": "ipython3",
   "version": "3.12.3"
  },
  "trusted": true
 },
 "nbformat": 4,
 "nbformat_minor": 4
}
